{
 "cells": [
  {
   "cell_type": "code",
   "execution_count": 37,
   "id": "initial_id",
   "metadata": {
    "collapsed": true,
    "ExecuteTime": {
     "end_time": "2024-10-28T12:08:03.661344700Z",
     "start_time": "2024-10-28T12:08:03.648954400Z"
    }
   },
   "outputs": [],
   "source": [
    "import torch\n",
    "import numpy as np\n",
    "from torchvision import datasets, transforms\n",
    "from torch.utils.data import DataLoader\n",
    "import time"
   ]
  },
  {
   "cell_type": "code",
   "execution_count": 46,
   "outputs": [],
   "source": [
    "def load_data():\n",
    "    # 加载数据MNIST, 训练集和测试集(train=True/False), 转换为张量(附带归一化 /255), 下载数据\n",
    "    train_data = datasets.MNIST(root='data', train=True, transform=transforms.ToTensor(), download=True)\n",
    "    test_data = datasets.MNIST(root='data', train=False, transform=transforms.ToTensor(), download=True)\n",
    "    \n",
    "    # 数据加载器 DataLoader, 用于将数据分批次加载, shuffle=True表示打乱数据\n",
    "    train_loader = DataLoader(dataset=train_data, batch_size=256, shuffle=True)\n",
    "    test_loader = DataLoader(dataset=test_data, batch_size=256, shuffle=False)\n",
    "    return train_loader, test_loader"
   ],
   "metadata": {
    "collapsed": false,
    "ExecuteTime": {
     "end_time": "2024-10-28T12:09:14.965190Z",
     "start_time": "2024-10-28T12:09:14.951850400Z"
    }
   },
   "id": "c08b1ca9c71da0e8"
  },
  {
   "cell_type": "code",
   "execution_count": 47,
   "outputs": [],
   "source": [
    "class MLP(torch.nn.Module):\n",
    "    \"\"\"\n",
    "        \n",
    "    \"\"\"\n",
    "    def __init__(self):\n",
    "        super(MLP, self).__init__()\n",
    "        self.fc1 = torch.nn.Linear(28*28, 256)\n",
    "        self.fc2 = torch.nn.Linear(256, 10)\n",
    "        self.relu = torch.nn.ReLU()\n",
    "        self.softmax = torch.nn.Softmax(dim=1)\n",
    "        \n",
    "    def forward(self, x):\n",
    "        x = x.view(-1, 28*28)\n",
    "        x = self.fc1(x)\n",
    "        x = self.relu(x)\n",
    "        x = self.fc2(x)\n",
    "        x = self.softmax(x)\n",
    "        return x"
   ],
   "metadata": {
    "collapsed": false,
    "ExecuteTime": {
     "end_time": "2024-10-28T12:09:15.315000400Z",
     "start_time": "2024-10-28T12:09:15.309998700Z"
    }
   },
   "id": "ff7d013d5ef16494"
  },
  {
   "cell_type": "code",
   "execution_count": 48,
   "outputs": [],
   "source": [
    "def train(model, train_loader, optimizer, criterion, device):\n",
    "    model.train()\n",
    "    for i, (images, labels) in enumerate(train_loader):\n",
    "        # 记录训练时间\n",
    "        start_time = time.time()\n",
    "        # 优化器梯度清零\n",
    "        optimizer.zero_grad()\n",
    "        # 数据加载到设备\n",
    "        images, labels = images.to(device), labels.to(device)\n",
    "        # 前向传播\n",
    "        outputs = model(images)\n",
    "        # 计算损失, 反向传播, 更新参数\n",
    "        loss = criterion(outputs, labels)\n",
    "        loss.backward()\n",
    "        optimizer.step()\n",
    "        # 打印训练信息\n",
    "        if (i+1) % 200 == 0:\n",
    "            print('Epoch [{}/{}], Step [{}/{}], Loss: {:.4f}, Time: {:.4f}'.format(epoch+1, num_epochs, i+1, len(train_loader), loss.item(), time.time()-start_time))"
   ],
   "metadata": {
    "collapsed": false,
    "ExecuteTime": {
     "end_time": "2024-10-28T12:09:15.824571300Z",
     "start_time": "2024-10-28T12:09:15.819571200Z"
    }
   },
   "id": "65c783c72abfcc71"
  },
  {
   "cell_type": "code",
   "execution_count": 49,
   "outputs": [],
   "source": [
    "def test(model, test_loader, device):\n",
    "    model.eval()\n",
    "    correct = 0\n",
    "    total = 0\n",
    "    for images, labels in test_loader:\n",
    "        images, labels = images.to(device), labels.to(device)\n",
    "        outputs = model(images)\n",
    "        _, predicted = torch.max(outputs.data, 1)\n",
    "        total += labels.size(0)\n",
    "        correct += (predicted == labels).sum().item()\n",
    "    print('Accuracy of the network on the 10000 test images: {} %'.format(100 * correct / total))"
   ],
   "metadata": {
    "collapsed": false,
    "ExecuteTime": {
     "end_time": "2024-10-28T12:09:16.457891200Z",
     "start_time": "2024-10-28T12:09:16.433985500Z"
    }
   },
   "id": "7ffdb41e98407eac"
  },
  {
   "cell_type": "code",
   "execution_count": 50,
   "outputs": [
    {
     "name": "stdout",
     "output_type": "stream",
     "text": [
      "device:  cuda\n",
      "Epoch [1/3], Step [200/235], Loss: 1.5699, Time: 0.0000\n",
      "Accuracy of the network on the 10000 test images: 92.1 %\n",
      "Epoch [2/3], Step [200/235], Loss: 1.5404, Time: 0.0000\n",
      "Accuracy of the network on the 10000 test images: 93.86 %\n",
      "Epoch [3/3], Step [200/235], Loss: 1.5274, Time: 0.0156\n",
      "Accuracy of the network on the 10000 test images: 94.71 %\n"
     ]
    }
   ],
   "source": [
    "# 开始训练\n",
    "device = torch.device('cuda' if torch.cuda.is_available() else 'cpu')\n",
    "print(\"device: \", device)\n",
    "train_loader, test_loader = load_data()\n",
    "model = MLP().to(device)\n",
    "criterion = torch.nn.CrossEntropyLoss()\n",
    "optimizer = torch.optim.Adam(model.parameters(), lr=0.001)\n",
    "num_epochs = 3\n",
    "\n",
    "for epoch in range(num_epochs):\n",
    "    train(model, train_loader, optimizer, criterion, device)\n",
    "    test(model, test_loader, device)"
   ],
   "metadata": {
    "collapsed": false,
    "ExecuteTime": {
     "end_time": "2024-10-28T12:09:34.593861300Z",
     "start_time": "2024-10-28T12:09:16.679749700Z"
    }
   },
   "id": "393917ffbb70baf1"
  },
  {
   "cell_type": "code",
   "execution_count": null,
   "outputs": [],
   "source": [],
   "metadata": {
    "collapsed": false
   },
   "id": "d60e1d615d8bf9b8"
  }
 ],
 "metadata": {
  "kernelspec": {
   "display_name": "Python 3",
   "language": "python",
   "name": "python3"
  },
  "language_info": {
   "codemirror_mode": {
    "name": "ipython",
    "version": 2
   },
   "file_extension": ".py",
   "mimetype": "text/x-python",
   "name": "python",
   "nbconvert_exporter": "python",
   "pygments_lexer": "ipython2",
   "version": "2.7.6"
  }
 },
 "nbformat": 4,
 "nbformat_minor": 5
}
