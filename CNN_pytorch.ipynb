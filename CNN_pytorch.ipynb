{
 "cells": [
  {
   "cell_type": "code",
   "execution_count": 8,
   "outputs": [],
   "source": [
    "import torch\n",
    "import torch.nn as nn\n",
    "import torch.optim as optim\n",
    "import matplotlib.pyplot as plt\n",
    "from torchvision import datasets, transforms\n",
    "from torch.utils.data import DataLoader"
   ],
   "metadata": {
    "collapsed": false,
    "ExecuteTime": {
     "end_time": "2024-10-29T06:20:28.326864200Z",
     "start_time": "2024-10-29T06:20:28.324358300Z"
    }
   },
   "id": "bccd982b434e6c7"
  },
  {
   "cell_type": "code",
   "execution_count": 9,
   "outputs": [],
   "source": [
    "def load_data():\n",
    "    # 加载数据MNIST, 训练集和测试集(train=True/False), 转换为张量(附带归一化 /255), 下载数据\n",
    "    train_data = datasets.MNIST(root='data', train=True, transform=transforms.ToTensor(), download=True)\n",
    "    test_data = datasets.MNIST(root='data', train=False, transform=transforms.ToTensor(), download=True)\n",
    "    \n",
    "    # 数据加载器 DataLoader, 用于将数据分批次加载, shuffle=True表示打乱数据\n",
    "    train_loader = DataLoader(dataset=train_data, batch_size=256, shuffle=True)\n",
    "    test_loader = DataLoader(dataset=test_data, batch_size=256, shuffle=False)\n",
    "    return train_loader, test_loader"
   ],
   "metadata": {
    "collapsed": false,
    "ExecuteTime": {
     "end_time": "2024-10-29T06:20:28.872932600Z",
     "start_time": "2024-10-29T06:20:28.869892800Z"
    }
   },
   "id": "c1fee06fa123b464"
  },
  {
   "cell_type": "code",
   "execution_count": 10,
   "outputs": [],
   "source": [
    "# 定义CNN模型\n",
    "class CNN(nn.Module):\n",
    "    def __init__(self):\n",
    "        super(CNN, self).__init__()\n",
    "        self.conv1 = nn.Conv2d(1, 32, kernel_size=3, padding=1)\n",
    "        self.conv2 = nn.Conv2d(32, 64, kernel_size=3, padding=1)\n",
    "        self.fc1 = nn.Linear(64 * 7 * 7, 128)\n",
    "        self.fc2 = nn.Linear(128, 10)\n",
    "        self.pool = nn.MaxPool2d(2, 2)\n",
    "        self.relu = nn.ReLU()\n",
    "        self.softmax = nn.LogSoftmax(dim=1)\n",
    "\n",
    "    def forward(self, x):\n",
    "        x = self.pool(self.relu(self.conv1(x)))\n",
    "        x = self.pool(self.relu(self.conv2(x)))\n",
    "        x = x.view(-1, 64 * 7 * 7)  # Flatten\n",
    "        x = self.relu(self.fc1(x))\n",
    "        x = self.softmax(self.fc2(x))\n",
    "        return x\n"
   ],
   "metadata": {
    "collapsed": false,
    "ExecuteTime": {
     "end_time": "2024-10-29T06:20:29.308961200Z",
     "start_time": "2024-10-29T06:20:29.304442800Z"
    }
   },
   "id": "e4b193517407ad53"
  },
  {
   "cell_type": "code",
   "execution_count": 11,
   "outputs": [],
   "source": [
    "# 训练函数\n",
    "def train(model, train_loader, optimizer, criterion, device):\n",
    "    model.train()\n",
    "    total_loss = 0\n",
    "    for images, labels in train_loader:\n",
    "        images, labels = images.to(device), labels.to(device)  # 将数据移到GPU\n",
    "        optimizer.zero_grad()\n",
    "        outputs = model(images)\n",
    "        loss = criterion(outputs, labels)\n",
    "        loss.backward()\n",
    "        optimizer.step()\n",
    "        total_loss += loss.item()\n",
    "    print(f'Train Loss: {total_loss / len(train_loader):.4f}')"
   ],
   "metadata": {
    "collapsed": false,
    "ExecuteTime": {
     "end_time": "2024-10-29T06:20:29.785343100Z",
     "start_time": "2024-10-29T06:20:29.781833800Z"
    }
   },
   "id": "c012ff39d27549c5"
  },
  {
   "cell_type": "code",
   "execution_count": 12,
   "outputs": [],
   "source": [
    "# 测试函数\n",
    "def test(model, test_loader, device):\n",
    "    model.eval()\n",
    "    correct = 0\n",
    "    total = 0\n",
    "    with torch.no_grad():\n",
    "        for images, labels in test_loader:\n",
    "            images, labels = images.to(device), labels.to(device)  # 将数据移到GPU\n",
    "            outputs = model(images)\n",
    "            _, predicted = torch.max(outputs.data, 1)\n",
    "            total += labels.size(0)\n",
    "            correct += (predicted == labels).sum().item()\n",
    "    print(f'Accuracy of the model on the test set: {100 * correct / total:.2f}%')"
   ],
   "metadata": {
    "collapsed": false,
    "ExecuteTime": {
     "end_time": "2024-10-29T06:20:30.254379700Z",
     "start_time": "2024-10-29T06:20:30.250710400Z"
    }
   },
   "id": "93fe521f64659a76"
  },
  {
   "cell_type": "code",
   "execution_count": 13,
   "outputs": [],
   "source": [
    "# 可视化一些测试结果\n",
    "def visualize_predictions(model, loader, device):\n",
    "    model.eval()\n",
    "    data_iter = iter(loader)\n",
    "    images, labels = next(data_iter)\n",
    "    images, labels = images.to(device), labels.to(device)\n",
    "    outputs = model(images)\n",
    "    _, preds = torch.max(outputs, 1)\n",
    "\n",
    "    plt.figure(figsize=(12, 8))\n",
    "    for i in range(16):\n",
    "        plt.subplot(4, 4, i + 1)\n",
    "        plt.imshow(images[i][0].cpu(), cmap='gray')\n",
    "        plt.title(f'Pred: {preds[i].item()}, True: {labels[i].item()}')\n",
    "        plt.axis('off')\n",
    "    plt.show()\n"
   ],
   "metadata": {
    "collapsed": false,
    "ExecuteTime": {
     "end_time": "2024-10-29T06:20:31.496603300Z",
     "start_time": "2024-10-29T06:20:31.489097200Z"
    }
   },
   "id": "e635b8bdf73e7356"
  },
  {
   "cell_type": "code",
   "execution_count": 16,
   "outputs": [
    {
     "name": "stdout",
     "output_type": "stream",
     "text": [
      "Device:  cuda\n",
      "Epoch [1/5]\n",
      "Train Loss: 0.3430\n",
      "Accuracy of the model on the test set: 96.83%\n",
      "Epoch [2/5]\n",
      "Train Loss: 0.0772\n",
      "Accuracy of the model on the test set: 98.31%\n",
      "Epoch [3/5]\n",
      "Train Loss: 0.0526\n",
      "Accuracy of the model on the test set: 98.55%\n",
      "Epoch [4/5]\n",
      "Train Loss: 0.0406\n",
      "Accuracy of the model on the test set: 98.34%\n",
      "Epoch [5/5]\n",
      "Train Loss: 0.0346\n",
      "Accuracy of the model on the test set: 98.53%\n"
     ]
    }
   ],
   "source": [
    "# 主程序\n",
    "device = torch.device('cuda' if torch.cuda.is_available() else 'cpu')\n",
    "print(\"Device: \", device)\n",
    "\n",
    "train_loader, test_loader = load_data()\n",
    "model = CNN().to(device)\n",
    "criterion = nn.NLLLoss()  # 或者使用 nn.CrossEntropyLoss()\n",
    "optimizer = optim.Adam(model.parameters(), lr=0.001)\n",
    "num_epochs = 5\n",
    "\n",
    "for epoch in range(num_epochs):\n",
    "    print(f'Epoch [{epoch + 1}/{num_epochs}]')\n",
    "    train(model, train_loader, optimizer, criterion, device)\n",
    "    test(model, test_loader, device)\n"
   ],
   "metadata": {
    "collapsed": false,
    "ExecuteTime": {
     "end_time": "2024-10-29T06:21:26.124629500Z",
     "start_time": "2024-10-29T06:21:10.415283900Z"
    }
   },
   "id": "f649eb5db570ab14"
  },
  {
   "cell_type": "code",
   "execution_count": 15,
   "outputs": [
    {
     "data": {
      "text/plain": "<Figure size 1200x800 with 16 Axes>",
      "image/png": "[encoded data removed]"
     },
     "metadata": {},
     "output_type": "display_data"
    }
   ],
   "source": [
    "# 可视化测试结果\n",
    "visualize_predictions(model, test_loader, device)"
   ],
   "metadata": {
    "collapsed": false,
    "ExecuteTime": {
     "end_time": "2024-10-29T06:21:05.896904300Z",
     "start_time": "2024-10-29T06:21:05.652492400Z"
    }
   },
   "id": "47ce2af8d32edf7a"
  },
  {
   "cell_type": "code",
   "execution_count": null,
   "outputs": [],
   "source": [],
   "metadata": {
    "collapsed": false
   },
   "id": "3cf9245d51c9394c"
  }
 ],
 "metadata": {
  "kernelspec": {
   "display_name": "Python 3",
   "language": "python",
   "name": "python3"
  },
  "language_info": {
   "codemirror_mode": {
    "name": "ipython",
    "version": 2
   },
   "file_extension": ".py",
   "mimetype": "text/x-python",
   "name": "python",
   "nbconvert_exporter": "python",
   "pygments_lexer": "ipython2",
   "version": "2.7.6"
  }
 },
 "nbformat": 4,
 "nbformat_minor": 5
}
