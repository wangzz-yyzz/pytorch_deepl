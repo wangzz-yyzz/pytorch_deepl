{
 "cells": [
  {
   "cell_type": "code",
   "execution_count": 1,
   "metadata": {
    "collapsed": true,
    "ExecuteTime": {
     "end_time": "2024-10-29T10:11:29.965416600Z",
     "start_time": "2024-10-29T10:11:27.580767900Z"
    }
   },
   "outputs": [],
   "source": [
    "import os\n",
    "\n",
    "from keras.datasets import imdb\n",
    "import torch.nn as nn\n",
    "import torch\n",
    "from torch.nn.utils.rnn import pad_sequence\n",
    "import warnings\n",
    "warnings.filterwarnings(\"ignore\")"
   ]
  },
  {
   "cell_type": "code",
   "execution_count": 2,
   "outputs": [],
   "source": [
    "def load_data(device='cpu'):\n",
    "    # 加载 IMDB 数据集\n",
    "    (train_data, train_labels), (test_data, test_labels) = imdb.load_data(num_words=10000)\n",
    "    \n",
    "    # 统一长度，不足的填充 0\n",
    "    max_len = 200\n",
    "    train_data = [torch.tensor(seq)[:max_len] for seq in train_data]\n",
    "    test_data = [torch.tensor(seq)[:max_len] for seq in test_data]\n",
    "    \n",
    "    # 填充数据\n",
    "    train_data = pad_sequence(train_data, batch_first=True)\n",
    "    test_data = pad_sequence(test_data, batch_first=True)\n",
    "    \n",
    "    # 转换为 pytorch tensor\n",
    "    train_labels = torch.tensor(train_labels, dtype=torch.float32, device=device)\n",
    "    test_labels = torch.tensor(test_labels, dtype=torch.float32, device=device)\n",
    "    train_data = torch.tensor(train_data, dtype=torch.long, device=device)\n",
    "    test_data = torch.tensor(test_data, dtype=torch.long, device=device)\n",
    "    \n",
    "    # 查看数据集大小\n",
    "    print(f'训练集大小: {len(train_data)}')\n",
    "    print(f'测试集大小: {len(test_data)}')\n",
    "    print(\"train labels shape: \", train_labels.shape)\n",
    "    print(\"test labels shape: \", test_labels.shape)\n",
    "    print(\"train data shape: \", train_data.shape)\n",
    "    print(\"test data shape: \", test_data.shape)\n",
    "\n",
    "    return train_data, train_labels, test_data, test_labels"
   ],
   "metadata": {
    "collapsed": false,
    "ExecuteTime": {
     "end_time": "2024-10-29T10:11:29.970722200Z",
     "start_time": "2024-10-29T10:11:29.968214600Z"
    }
   }
  },
  {
   "cell_type": "code",
   "execution_count": 3,
   "outputs": [
    {
     "name": "stdout",
     "output_type": "stream",
     "text": [
      "训练集大小: 25000\n",
      "测试集大小: 25000\n",
      "train labels shape:  torch.Size([25000])\n",
      "test labels shape:  torch.Size([25000])\n",
      "train data shape:  torch.Size([25000, 200])\n",
      "test data shape:  torch.Size([25000, 200])\n",
      "tensor([   1,   14,   22,   16,   43,  530,  973, 1622, 1385,   65,  458, 4468,\n",
      "          66, 3941,    4,  173,   36,  256,    5,   25,  100,   43,  838,  112,\n",
      "          50,  670,    2,    9,   35,  480,  284,    5,  150,    4,  172,  112,\n",
      "         167,    2,  336,  385,   39,    4,  172, 4536, 1111,   17,  546,   38,\n",
      "          13,  447,    4,  192,   50,   16,    6,  147, 2025,   19,   14,   22,\n",
      "           4, 1920, 4613,  469,    4,   22,   71,   87,   12,   16,   43,  530,\n",
      "          38,   76,   15,   13, 1247,    4,   22,   17,  515,   17,   12,   16,\n",
      "         626,   18,    2,    5,   62,  386,   12,    8,  316,    8,  106,    5,\n",
      "           4, 2223, 5244,   16,  480,   66, 3785,   33,    4,  130,   12,   16,\n",
      "          38,  619,    5,   25,  124,   51,   36,  135,   48,   25, 1415,   33,\n",
      "           6,   22,   12,  215,   28,   77,   52,    5,   14,  407,   16,   82,\n",
      "           2,    8,    4,  107,  117, 5952,   15,  256,    4,    2,    7, 3766,\n",
      "           5,  723,   36,   71,   43,  530,  476,   26,  400,  317,   46,    7,\n",
      "           4,    2, 1029,   13,  104,   88,    4,  381,   15,  297,   98,   32,\n",
      "        2071,   56,   26,  141,    6,  194, 7486,   18,    4,  226,   22,   21,\n",
      "         134,  476,   26,  480,    5,  144,   30, 5535,   18,   51,   36,   28,\n",
      "         224,   92,   25,  104,    4,  226,   65,   16], device='cuda:0')\n"
     ]
    }
   ],
   "source": [
    "device = torch.device('cuda' if torch.cuda.is_available() else 'cpu')\n",
    "train_data, train_labels, test_data, test_labels = load_data(device=device)\n",
    "print(train_data[0])"
   ],
   "metadata": {
    "collapsed": false,
    "ExecuteTime": {
     "end_time": "2024-10-29T10:11:33.234230400Z",
     "start_time": "2024-10-29T10:11:29.969214600Z"
    }
   }
  },
  {
   "cell_type": "code",
   "execution_count": 4,
   "outputs": [],
   "source": [
    "class LSTMModel(nn.Module):\n",
    "    def __init__(self, vocab_size, embedding_dim, hidden_dim, output_dim, n_layers, dropout):\n",
    "        super(LSTMModel, self).__init__()\n",
    "        # 词嵌入层\n",
    "        self.embedding = nn.Embedding(vocab_size, embedding_dim)\n",
    "        # LSTM 层\n",
    "        self.lstm = nn.LSTM(embedding_dim, hidden_dim, num_layers=n_layers, dropout=dropout, batch_first=True)\n",
    "        self.fc = nn.Linear(hidden_dim, output_dim)\n",
    "        self.dropout = nn.Dropout(dropout)\n",
    "\n",
    "    def forward(self, x):\n",
    "        x = self.embedding(x)\n",
    "        lstm_out, _ = self.lstm(x)\n",
    "        out = self.dropout(lstm_out[:, -1, :])  # 取最后一层输出\n",
    "        out = self.fc(out)\n",
    "        return out\n"
   ],
   "metadata": {
    "collapsed": false,
    "ExecuteTime": {
     "end_time": "2024-10-29T10:11:33.240229100Z",
     "start_time": "2024-10-29T10:11:33.236226400Z"
    }
   }
  },
  {
   "cell_type": "code",
   "execution_count": 5,
   "outputs": [],
   "source": [
    "class RNNModel(nn.Module):\n",
    "    def __init__(self, vocab_size, embedding_dim, hidden_dim, output_dim, n_layers, dropout):\n",
    "        super(RNNModel, self).__init__()\n",
    "        # 词嵌入层\n",
    "        self.embedding = nn.Embedding(vocab_size, embedding_dim)\n",
    "        # RNN 层\n",
    "        self.rnn = nn.RNN(embedding_dim, hidden_dim, num_layers=n_layers, dropout=dropout, batch_first=True)\n",
    "        self.fc = nn.Linear(hidden_dim, output_dim)\n",
    "        self.dropout = nn.Dropout(dropout)\n",
    "\n",
    "    def forward(self, x):\n",
    "        x = self.embedding(x)\n",
    "        rnn_out, _ = self.rnn(x)\n",
    "        out = self.dropout(rnn_out[:, -1, :])  # 取最后一层输出\n",
    "        out = self.fc(out)\n",
    "        return out"
   ],
   "metadata": {
    "collapsed": false,
    "ExecuteTime": {
     "end_time": "2024-10-29T10:11:33.243223900Z",
     "start_time": "2024-10-29T10:11:33.241229700Z"
    }
   }
  },
  {
   "cell_type": "code",
   "execution_count": 6,
   "outputs": [],
   "source": [
    "from torch.utils.data import Dataset, DataLoader\n",
    "from prefetch_generator import BackgroundGenerator\n",
    "\n",
    "class IMDBDataset(Dataset):\n",
    "    def __init__(self, data, labels):\n",
    "        self.data = data\n",
    "        self.labels = labels\n",
    "\n",
    "    def __len__(self):\n",
    "        return len(self.data)\n",
    "\n",
    "    def __getitem__(self, idx):\n",
    "        return self.data[idx], self.labels[idx]\n",
    "\n",
    "class DataLoaderX(DataLoader):\n",
    "    def __iter__(self):\n",
    "        return BackgroundGenerator(super().__iter__(), max_prefetch=32)"
   ],
   "metadata": {
    "collapsed": false,
    "ExecuteTime": {
     "end_time": "2024-10-29T10:11:33.267033100Z",
     "start_time": "2024-10-29T10:11:33.244229Z"
    }
   }
  },
  {
   "cell_type": "code",
   "execution_count": 7,
   "outputs": [],
   "source": [
    "def train_model(model, train_data, train_labels, criterion, optimizer, num_epochs=5, batch_size=128):\n",
    "    # 创建数据集和数据加载器\n",
    "    dataset = IMDBDataset(train_data, train_labels)\n",
    "    train_loader = DataLoaderX(dataset, batch_size=batch_size, shuffle=True)\n",
    "\n",
    "    model.train()\n",
    "    correct = 0\n",
    "    total = 0\n",
    "    train_acc = []\n",
    "    train_loss = []\n",
    "    for epoch in range(num_epochs):\n",
    "        cur_loss = []\n",
    "        for inputs, labels in train_loader:\n",
    "            optimizer.zero_grad()\n",
    "            outputs = model(inputs)\n",
    "            correct += (torch.round(torch.sigmoid(outputs)).squeeze() == labels).sum().item()\n",
    "            total += labels.size(0)\n",
    "            loss = criterion(outputs, labels.unsqueeze(1))  # 需要调整标签形状\n",
    "            loss.backward()\n",
    "            optimizer.step()\n",
    "            cur_loss.append(loss.item())\n",
    "        print(f'Epoch [{epoch+1}/{num_epochs}], Loss: {sum(cur_loss)/len(cur_loss):.4f}, Accuracy: {correct/total:.4f}')\n",
    "        train_acc.append(correct / total)\n",
    "        train_loss.append(sum(cur_loss) / len(cur_loss))\n",
    "    return train_acc, train_loss\n",
    "\n",
    "def evaluate_model(model, test_data, test_labels, batch_size=32):\n",
    "    dataset = IMDBDataset(test_data, test_labels)\n",
    "    test_loader = DataLoaderX(dataset, batch_size=batch_size, shuffle=False)\n",
    "\n",
    "    model.eval()\n",
    "    correct = 0\n",
    "    total = 0\n",
    "    with torch.no_grad():\n",
    "        for inputs, labels in test_loader:\n",
    "            outputs = model(inputs)\n",
    "            predictions = torch.round(torch.sigmoid(outputs))\n",
    "            correct += (predictions.squeeze() == labels).sum().item()\n",
    "            total += labels.size(0)\n",
    "    accuracy = correct / total\n",
    "    print(f'Accuracy: {accuracy:.4f}')"
   ],
   "metadata": {
    "collapsed": false,
    "ExecuteTime": {
     "end_time": "2024-10-29T10:11:33.267033100Z",
     "start_time": "2024-10-29T10:11:33.250943800Z"
    }
   }
  },
  {
   "cell_type": "code",
   "execution_count": 8,
   "outputs": [
    {
     "name": "stdout",
     "output_type": "stream",
     "text": [
      "Using cuda device\n"
     ]
    }
   ],
   "source": [
    "device = torch.device('cuda' if torch.cuda.is_available() else 'cpu')\n",
    "print(f'Using {device} device')\n",
    "\n",
    "# 设置超参数\n",
    "vocab_size = 10000\n",
    "embedding_dim = 32\n",
    "hidden_dim = 64\n",
    "output_dim = 1\n",
    "n_layers = 3\n",
    "dropout = 0.5\n",
    "num_epochs = 100\n",
    "learning_rate = 0.01\n",
    "batch_size = 256\n",
    "max_len = 200\n",
    "res = {}"
   ],
   "metadata": {
    "collapsed": false,
    "ExecuteTime": {
     "end_time": "2024-10-29T10:11:33.268064900Z",
     "start_time": "2024-10-29T10:11:33.254158600Z"
    }
   }
  },
  {
   "cell_type": "code",
   "execution_count": 9,
   "outputs": [
    {
     "name": "stdout",
     "output_type": "stream",
     "text": [
      "Epoch [1/100], Loss: 0.6942, Accuracy: 0.5037\n",
      "Epoch [2/100], Loss: 0.6935, Accuracy: 0.5042\n",
      "Epoch [3/100], Loss: 0.6935, Accuracy: 0.5019\n",
      "Epoch [4/100], Loss: 0.6933, Accuracy: 0.5002\n",
      "Epoch [5/100], Loss: 0.6933, Accuracy: 0.5006\n",
      "Epoch [6/100], Loss: 0.6911, Accuracy: 0.5038\n",
      "Epoch [7/100], Loss: 0.6867, Accuracy: 0.5074\n",
      "Epoch [8/100], Loss: 0.6425, Accuracy: 0.5236\n",
      "Epoch [9/100], Loss: 0.5059, Accuracy: 0.5508\n",
      "Epoch [10/100], Loss: 0.3689, Accuracy: 0.5806\n",
      "Epoch [11/100], Loss: 0.2960, Accuracy: 0.6082\n",
      "Epoch [12/100], Loss: 0.2467, Accuracy: 0.6332\n",
      "Epoch [13/100], Loss: 0.2121, Accuracy: 0.6556\n",
      "Epoch [14/100], Loss: 0.1790, Accuracy: 0.6760\n",
      "Epoch [15/100], Loss: 0.1609, Accuracy: 0.6941\n",
      "Epoch [16/100], Loss: 0.1372, Accuracy: 0.7106\n",
      "Epoch [17/100], Loss: 0.1230, Accuracy: 0.7254\n",
      "Epoch [18/100], Loss: 0.1140, Accuracy: 0.7388\n",
      "Epoch [19/100], Loss: 0.0963, Accuracy: 0.7511\n",
      "Epoch [20/100], Loss: 0.0841, Accuracy: 0.7623\n",
      "Epoch [21/100], Loss: 0.0801, Accuracy: 0.7726\n",
      "Epoch [22/100], Loss: 0.0812, Accuracy: 0.7819\n",
      "Epoch [23/100], Loss: 0.0693, Accuracy: 0.7906\n",
      "Epoch [24/100], Loss: 0.0744, Accuracy: 0.7984\n",
      "Epoch [25/100], Loss: 0.0745, Accuracy: 0.8056\n",
      "Epoch [26/100], Loss: 0.0736, Accuracy: 0.8122\n",
      "Epoch [27/100], Loss: 0.0607, Accuracy: 0.8186\n",
      "Epoch [28/100], Loss: 0.0534, Accuracy: 0.8246\n",
      "Epoch [29/100], Loss: 0.0488, Accuracy: 0.8302\n",
      "Epoch [30/100], Loss: 0.0671, Accuracy: 0.8352\n",
      "Epoch [31/100], Loss: 0.0550, Accuracy: 0.8400\n",
      "Epoch [32/100], Loss: 0.0553, Accuracy: 0.8446\n",
      "Epoch [33/100], Loss: 0.0450, Accuracy: 0.8489\n",
      "Epoch [34/100], Loss: 0.0468, Accuracy: 0.8530\n",
      "Epoch [35/100], Loss: 0.0475, Accuracy: 0.8569\n",
      "Epoch [36/100], Loss: 0.0619, Accuracy: 0.8604\n",
      "Epoch [37/100], Loss: 0.0601, Accuracy: 0.8637\n",
      "Epoch [38/100], Loss: 0.0541, Accuracy: 0.8668\n",
      "Epoch [39/100], Loss: 0.0575, Accuracy: 0.8698\n",
      "Epoch [40/100], Loss: 0.0520, Accuracy: 0.8727\n",
      "Epoch [41/100], Loss: 0.0483, Accuracy: 0.8755\n",
      "Epoch [42/100], Loss: 0.0434, Accuracy: 0.8782\n",
      "Epoch [43/100], Loss: 0.0417, Accuracy: 0.8808\n",
      "Epoch [44/100], Loss: 0.0580, Accuracy: 0.8831\n",
      "Epoch [45/100], Loss: 0.0414, Accuracy: 0.8855\n",
      "Epoch [46/100], Loss: 0.0381, Accuracy: 0.8878\n",
      "Epoch [47/100], Loss: 0.0420, Accuracy: 0.8899\n",
      "Epoch [48/100], Loss: 0.0451, Accuracy: 0.8919\n",
      "Epoch [49/100], Loss: 0.0324, Accuracy: 0.8940\n",
      "Epoch [50/100], Loss: 0.0531, Accuracy: 0.8958\n",
      "Epoch [51/100], Loss: 0.0354, Accuracy: 0.8977\n",
      "Epoch [52/100], Loss: 0.0325, Accuracy: 0.8995\n",
      "Epoch [53/100], Loss: 0.0482, Accuracy: 0.9011\n",
      "Epoch [54/100], Loss: 0.0400, Accuracy: 0.9028\n",
      "Epoch [55/100], Loss: 0.0347, Accuracy: 0.9044\n",
      "Epoch [56/100], Loss: 0.0351, Accuracy: 0.9059\n",
      "Epoch [57/100], Loss: 0.0334, Accuracy: 0.9075\n",
      "Epoch [58/100], Loss: 0.0253, Accuracy: 0.9089\n",
      "Epoch [59/100], Loss: 0.0486, Accuracy: 0.9103\n",
      "Epoch [60/100], Loss: 0.0357, Accuracy: 0.9116\n",
      "Epoch [61/100], Loss: 0.0290, Accuracy: 0.9129\n",
      "Epoch [62/100], Loss: 0.0386, Accuracy: 0.9142\n",
      "Epoch [63/100], Loss: 0.0335, Accuracy: 0.9154\n",
      "Epoch [64/100], Loss: 0.0243, Accuracy: 0.9166\n",
      "Epoch [65/100], Loss: 0.0272, Accuracy: 0.9178\n",
      "Epoch [66/100], Loss: 0.0331, Accuracy: 0.9189\n",
      "Epoch [67/100], Loss: 0.0277, Accuracy: 0.9200\n",
      "Epoch [68/100], Loss: 0.0269, Accuracy: 0.9211\n",
      "Epoch [69/100], Loss: 0.0264, Accuracy: 0.9221\n",
      "Epoch [70/100], Loss: 0.0262, Accuracy: 0.9231\n",
      "Epoch [71/100], Loss: 0.0252, Accuracy: 0.9241\n",
      "Epoch [72/100], Loss: 0.0348, Accuracy: 0.9251\n",
      "Epoch [73/100], Loss: 0.0341, Accuracy: 0.9260\n",
      "Epoch [74/100], Loss: 0.0443, Accuracy: 0.9268\n",
      "Epoch [75/100], Loss: 0.0435, Accuracy: 0.9276\n",
      "Epoch [76/100], Loss: 0.0353, Accuracy: 0.9285\n",
      "Epoch [77/100], Loss: 0.0325, Accuracy: 0.9293\n",
      "Epoch [78/100], Loss: 0.0236, Accuracy: 0.9301\n",
      "Epoch [79/100], Loss: 0.0243, Accuracy: 0.9309\n",
      "Epoch [80/100], Loss: 0.0280, Accuracy: 0.9317\n",
      "Epoch [81/100], Loss: 0.0327, Accuracy: 0.9324\n",
      "Epoch [82/100], Loss: 0.0340, Accuracy: 0.9332\n",
      "Epoch [83/100], Loss: 0.0366, Accuracy: 0.9339\n",
      "Epoch [84/100], Loss: 0.0313, Accuracy: 0.9345\n",
      "Epoch [85/100], Loss: 0.0213, Accuracy: 0.9353\n",
      "Epoch [86/100], Loss: 0.0283, Accuracy: 0.9359\n",
      "Epoch [87/100], Loss: 0.0314, Accuracy: 0.9366\n",
      "Epoch [88/100], Loss: 0.0208, Accuracy: 0.9372\n",
      "Epoch [89/100], Loss: 0.0303, Accuracy: 0.9379\n",
      "Epoch [90/100], Loss: 0.0294, Accuracy: 0.9384\n",
      "Epoch [91/100], Loss: 0.0361, Accuracy: 0.9390\n",
      "Epoch [92/100], Loss: 0.0401, Accuracy: 0.9396\n",
      "Epoch [93/100], Loss: 0.0398, Accuracy: 0.9401\n",
      "Epoch [94/100], Loss: 0.0326, Accuracy: 0.9406\n",
      "Epoch [95/100], Loss: 0.0366, Accuracy: 0.9411\n",
      "Epoch [96/100], Loss: 0.0346, Accuracy: 0.9417\n",
      "Epoch [97/100], Loss: 0.0286, Accuracy: 0.9422\n",
      "Epoch [98/100], Loss: 0.0219, Accuracy: 0.9427\n",
      "Epoch [99/100], Loss: 0.0243, Accuracy: 0.9432\n",
      "Epoch [100/100], Loss: 0.0206, Accuracy: 0.9438\n",
      "Accuracy: 0.8281\n"
     ]
    }
   ],
   "source": [
    "# LSTM 模型训练与评估\n",
    "\n",
    "# 创建模型、优化器和损失函数\n",
    "lstm_model = LSTMModel(vocab_size, embedding_dim, hidden_dim, output_dim, n_layers, dropout)\n",
    "lstm_model = lstm_model.to(device)\n",
    "optimizer = torch.optim.Adam(lstm_model.parameters(), lr=0.01)\n",
    "criterion = nn.BCEWithLogitsLoss()\n",
    "\n",
    "# 训练和评估模型\n",
    "acc, loss = train_model(lstm_model, train_data, train_labels, criterion, optimizer, num_epochs, batch_size=256)\n",
    "evaluate_model(lstm_model, test_data, test_labels, batch_size)\n",
    "res['LSTM'] = [acc, loss]\n",
    "# 保存模型\n",
    "torch.save(lstm_model.state_dict(), 'data' + os.sep +'lstm_model.pth')"
   ],
   "metadata": {
    "collapsed": false,
    "ExecuteTime": {
     "end_time": "2024-10-29T10:12:45.605383500Z",
     "start_time": "2024-10-29T10:11:33.257925900Z"
    }
   }
  },
  {
   "cell_type": "code",
   "execution_count": 10,
   "outputs": [
    {
     "name": "stdout",
     "output_type": "stream",
     "text": [
      "Epoch [1/100], Loss: 0.6977, Accuracy: 0.5042\n",
      "Epoch [2/100], Loss: 0.6957, Accuracy: 0.5038\n",
      "Epoch [3/100], Loss: 0.6951, Accuracy: 0.5036\n",
      "Epoch [4/100], Loss: 0.6941, Accuracy: 0.5045\n",
      "Epoch [5/100], Loss: 0.6931, Accuracy: 0.5060\n",
      "Epoch [6/100], Loss: 0.6928, Accuracy: 0.5063\n",
      "Epoch [7/100], Loss: 0.6921, Accuracy: 0.5078\n",
      "Epoch [8/100], Loss: 0.6910, Accuracy: 0.5094\n",
      "Epoch [9/100], Loss: 0.6898, Accuracy: 0.5117\n",
      "Epoch [10/100], Loss: 0.6885, Accuracy: 0.5134\n",
      "Epoch [11/100], Loss: 0.6862, Accuracy: 0.5156\n",
      "Epoch [12/100], Loss: 0.6834, Accuracy: 0.5180\n",
      "Epoch [13/100], Loss: 0.6791, Accuracy: 0.5203\n",
      "Epoch [14/100], Loss: 0.6746, Accuracy: 0.5231\n",
      "Epoch [15/100], Loss: 0.6690, Accuracy: 0.5260\n",
      "Epoch [16/100], Loss: 0.6645, Accuracy: 0.5288\n",
      "Epoch [17/100], Loss: 0.6596, Accuracy: 0.5321\n",
      "Epoch [18/100], Loss: 0.6530, Accuracy: 0.5353\n",
      "Epoch [19/100], Loss: 0.6449, Accuracy: 0.5387\n",
      "Epoch [20/100], Loss: 0.6345, Accuracy: 0.5423\n",
      "Epoch [21/100], Loss: 0.6428, Accuracy: 0.5453\n",
      "Epoch [22/100], Loss: 0.6218, Accuracy: 0.5486\n",
      "Epoch [23/100], Loss: 0.6095, Accuracy: 0.5522\n",
      "Epoch [24/100], Loss: 0.5979, Accuracy: 0.5558\n",
      "Epoch [25/100], Loss: 0.5907, Accuracy: 0.5593\n",
      "Epoch [26/100], Loss: 0.5814, Accuracy: 0.5628\n",
      "Epoch [27/100], Loss: 0.5691, Accuracy: 0.5661\n",
      "Epoch [28/100], Loss: 0.5534, Accuracy: 0.5698\n",
      "Epoch [29/100], Loss: 0.5472, Accuracy: 0.5734\n",
      "Epoch [30/100], Loss: 0.5415, Accuracy: 0.5766\n",
      "Epoch [31/100], Loss: 0.5345, Accuracy: 0.5799\n",
      "Epoch [32/100], Loss: 0.5246, Accuracy: 0.5832\n",
      "Epoch [33/100], Loss: 0.5175, Accuracy: 0.5863\n",
      "Epoch [34/100], Loss: 0.5140, Accuracy: 0.5894\n",
      "Epoch [35/100], Loss: 0.5063, Accuracy: 0.5924\n",
      "Epoch [36/100], Loss: 0.5007, Accuracy: 0.5953\n",
      "Epoch [37/100], Loss: 0.4936, Accuracy: 0.5983\n",
      "Epoch [38/100], Loss: 0.4954, Accuracy: 0.6009\n",
      "Epoch [39/100], Loss: 0.4880, Accuracy: 0.6036\n",
      "Epoch [40/100], Loss: 0.4878, Accuracy: 0.6061\n",
      "Epoch [41/100], Loss: 0.4876, Accuracy: 0.6086\n",
      "Epoch [42/100], Loss: 0.4817, Accuracy: 0.6112\n",
      "Epoch [43/100], Loss: 0.4642, Accuracy: 0.6145\n",
      "Epoch [44/100], Loss: 0.4820, Accuracy: 0.6167\n",
      "Epoch [45/100], Loss: 0.4779, Accuracy: 0.6188\n",
      "Epoch [46/100], Loss: 0.4738, Accuracy: 0.6208\n",
      "Epoch [47/100], Loss: 0.4764, Accuracy: 0.6226\n",
      "Epoch [48/100], Loss: 0.4735, Accuracy: 0.6244\n",
      "Epoch [49/100], Loss: 0.4680, Accuracy: 0.6261\n",
      "Epoch [50/100], Loss: 0.4638, Accuracy: 0.6280\n",
      "Epoch [51/100], Loss: 0.4707, Accuracy: 0.6295\n",
      "Epoch [52/100], Loss: 0.4684, Accuracy: 0.6313\n",
      "Epoch [53/100], Loss: 0.4597, Accuracy: 0.6336\n",
      "Epoch [54/100], Loss: 0.4417, Accuracy: 0.6361\n",
      "Epoch [55/100], Loss: 0.4404, Accuracy: 0.6386\n",
      "Epoch [56/100], Loss: 0.4403, Accuracy: 0.6409\n",
      "Epoch [57/100], Loss: 0.4413, Accuracy: 0.6431\n",
      "Epoch [58/100], Loss: 0.4381, Accuracy: 0.6454\n",
      "Epoch [59/100], Loss: 0.5374, Accuracy: 0.6463\n",
      "Epoch [60/100], Loss: 0.4812, Accuracy: 0.6474\n",
      "Epoch [61/100], Loss: 0.4565, Accuracy: 0.6488\n",
      "Epoch [62/100], Loss: 0.4584, Accuracy: 0.6499\n",
      "Epoch [63/100], Loss: 0.4535, Accuracy: 0.6511\n",
      "Epoch [64/100], Loss: 0.4511, Accuracy: 0.6522\n",
      "Epoch [65/100], Loss: 0.4536, Accuracy: 0.6533\n",
      "Epoch [66/100], Loss: 0.4480, Accuracy: 0.6544\n",
      "Epoch [67/100], Loss: 0.4508, Accuracy: 0.6554\n",
      "Epoch [68/100], Loss: 0.4495, Accuracy: 0.6564\n",
      "Epoch [69/100], Loss: 0.4487, Accuracy: 0.6574\n",
      "Epoch [70/100], Loss: 0.4447, Accuracy: 0.6584\n",
      "Epoch [71/100], Loss: 0.4439, Accuracy: 0.6594\n",
      "Epoch [72/100], Loss: 0.4421, Accuracy: 0.6604\n",
      "Epoch [73/100], Loss: 0.4487, Accuracy: 0.6613\n",
      "Epoch [74/100], Loss: 0.4437, Accuracy: 0.6621\n",
      "Epoch [75/100], Loss: 0.4411, Accuracy: 0.6630\n",
      "Epoch [76/100], Loss: 0.4368, Accuracy: 0.6640\n",
      "Epoch [77/100], Loss: 0.4407, Accuracy: 0.6648\n",
      "Epoch [78/100], Loss: 0.4447, Accuracy: 0.6656\n",
      "Epoch [79/100], Loss: 0.4366, Accuracy: 0.6665\n",
      "Epoch [80/100], Loss: 0.4345, Accuracy: 0.6673\n",
      "Epoch [81/100], Loss: 0.4317, Accuracy: 0.6682\n",
      "Epoch [82/100], Loss: 0.4356, Accuracy: 0.6690\n",
      "Epoch [83/100], Loss: 0.4420, Accuracy: 0.6698\n",
      "Epoch [84/100], Loss: 0.4468, Accuracy: 0.6705\n",
      "Epoch [85/100], Loss: 0.4345, Accuracy: 0.6712\n",
      "Epoch [86/100], Loss: 0.4388, Accuracy: 0.6720\n",
      "Epoch [87/100], Loss: 0.4250, Accuracy: 0.6729\n",
      "Epoch [88/100], Loss: 0.5490, Accuracy: 0.6734\n",
      "Epoch [89/100], Loss: 0.6909, Accuracy: 0.6716\n",
      "Epoch [90/100], Loss: 0.6824, Accuracy: 0.6703\n",
      "Epoch [91/100], Loss: 0.6757, Accuracy: 0.6691\n",
      "Epoch [92/100], Loss: 0.6762, Accuracy: 0.6679\n",
      "Epoch [93/100], Loss: 0.6699, Accuracy: 0.6668\n",
      "Epoch [94/100], Loss: 0.6627, Accuracy: 0.6658\n",
      "Epoch [95/100], Loss: 0.6521, Accuracy: 0.6650\n",
      "Epoch [96/100], Loss: 0.6429, Accuracy: 0.6642\n",
      "Epoch [97/100], Loss: 0.6316, Accuracy: 0.6637\n",
      "Epoch [98/100], Loss: 0.6211, Accuracy: 0.6632\n",
      "Epoch [99/100], Loss: 0.6135, Accuracy: 0.6628\n",
      "Epoch [100/100], Loss: 0.6040, Accuracy: 0.6624\n",
      "Accuracy: 0.5011\n"
     ]
    }
   ],
   "source": [
    "# RNN 模型训练与评估\n",
    "\n",
    "# 创建模型、优化器和损失函数\n",
    "rnn_model = RNNModel(vocab_size, embedding_dim, hidden_dim, output_dim, n_layers, dropout)\n",
    "rnn_model = rnn_model.to(device)\n",
    "optimizer = torch.optim.Adam(rnn_model.parameters(), lr=0.001)\n",
    "criterion = nn.BCEWithLogitsLoss()\n",
    "\n",
    "# 训练和评估模型\n",
    "acc, loss = train_model(rnn_model, train_data, train_labels, criterion, optimizer, num_epochs, batch_size=512)\n",
    "evaluate_model(rnn_model, test_data, test_labels, batch_size)\n",
    "res['RNN'] = [acc, loss]"
   ],
   "metadata": {
    "collapsed": false,
    "ExecuteTime": {
     "end_time": "2024-10-29T10:13:33.100239200Z",
     "start_time": "2024-10-29T10:12:45.604381600Z"
    }
   }
  },
  {
   "cell_type": "code",
   "execution_count": 11,
   "outputs": [
    {
     "data": {
      "text/plain": "<Figure size 1200x500 with 2 Axes>",
      "image/png": "[encoded data removed]"
     },
     "metadata": {},
     "output_type": "display_data"
    }
   ],
   "source": [
    "import seaborn as sns\n",
    "import matplotlib.pyplot as plt\n",
    "\n",
    "plt.figure(figsize=(12, 5))\n",
    "sns.set_theme(style='whitegrid')\n",
    "plt.subplot(1, 2, 1)\n",
    "for model_name, (acc, _) in res.items():\n",
    "    sns.lineplot(x=range(num_epochs), y=acc, label=model_name)\n",
    "plt.title('Train Accuracy')\n",
    "plt.xlabel('Epoch')\n",
    "plt.ylabel('Accuracy')\n",
    "plt.legend()\n",
    "\n",
    "plt.subplot(1, 2, 2)\n",
    "for model_name, (_, loss) in res.items():\n",
    "    sns.lineplot(x=range(num_epochs), y=loss, label=model_name)\n",
    "plt.title('Train Loss')\n",
    "plt.xlabel('Epoch')\n",
    "plt.ylabel('Loss')\n",
    "plt.legend()\n",
    "plt.show()"
   ],
   "metadata": {
    "collapsed": false,
    "ExecuteTime": {
     "end_time": "2024-10-29T10:13:33.396613100Z",
     "start_time": "2024-10-29T10:13:33.099239700Z"
    }
   }
  },
  {
   "cell_type": "code",
   "execution_count": 12,
   "outputs": [
    {
     "name": "stdout",
     "output_type": "stream",
     "text": [
      "Sample sentence: \n",
      "[START] please give this one a miss br br [OOV] [OOV] and the rest of the cast rendered terrible performances the show is flat flat flat br br i don't know how michael madison could have allowed this one on his plate he almost seemed to know this wasn't going to work out and his performance was quite [OOV] so all you madison fans give this a miss [PAD] [PAD] [PAD] [PAD] [PAD] [PAD] [PAD] [PAD] [PAD] [PAD] [PAD] [PAD] [PAD] [PAD] [PAD] [PAD] [PAD] [PAD] [PAD] [PAD] [PAD] [PAD] [PAD] [PAD] [PAD] [PAD] [PAD] [PAD] [PAD] [PAD] [PAD] [PAD] [PAD] [PAD] [PAD] [PAD] [PAD] [PAD] [PAD] [PAD] [PAD] [PAD] [PAD] [PAD] [PAD] [PAD] [PAD] [PAD] [PAD] [PAD] [PAD] [PAD] [PAD] [PAD] [PAD] [PAD] [PAD] [PAD] [PAD] [PAD] [PAD] [PAD] [PAD] [PAD] [PAD] [PAD] [PAD] [PAD] [PAD] [PAD] [PAD] [PAD] [PAD] [PAD] [PAD] [PAD] [PAD] [PAD] [PAD] [PAD] [PAD] [PAD] [PAD] [PAD] [PAD] [PAD] [PAD] [PAD] [PAD] [PAD] [PAD] [PAD] [PAD] [PAD] [PAD] [PAD] [PAD] [PAD] [PAD] [PAD] [PAD] [PAD] [PAD] [PAD] [PAD] [PAD] [PAD] [PAD] [PAD] [PAD] [PAD] [PAD] [PAD] [PAD] [PAD] [PAD] [PAD] [PAD] [PAD] [PAD] [PAD] [PAD] [PAD] [PAD] [PAD] [PAD] [PAD] [PAD] [PAD] [PAD] [PAD] [PAD]\n"
     ]
    }
   ],
   "source": [
    "def index2word(sentence_index):\n",
    "    start_char = 1\n",
    "    oov_char = 2\n",
    "    index_from = 3\n",
    "    \n",
    "    word_index = imdb.get_word_index()\n",
    "    inverted_word_index = dict(\n",
    "        (i + index_from, word) for (word, i) in word_index.items()\n",
    "    )\n",
    "    \n",
    "    inverted_word_index[start_char] = \"[START]\"\n",
    "    inverted_word_index[oov_char] = \"[OOV]\"\n",
    "    inverted_word_index[0] = \"[PAD]\"\n",
    "    \n",
    "    decoded_sequence = \" \".join(inverted_word_index[i] for i in sentence_index)\n",
    "    return decoded_sequence\n",
    "\n",
    "def word2index(sentence_word):\n",
    "    start_char = 1\n",
    "    oov_char = 2\n",
    "    index_from = 3\n",
    "    \n",
    "    word_index = imdb.get_word_index()\n",
    "    inverted_word_index = dict(\n",
    "        (word, i + index_from) for (word, i) in word_index.items()\n",
    "    )\n",
    "    inverted_word_index[\"[START]\"] = start_char\n",
    "    inverted_word_index[\"[OOV]\"] = oov_char\n",
    "    inverted_word_index[\"[PAD]\"] = 0\n",
    "    \n",
    "    sentence_index = [inverted_word_index.get(word, 0) for word in sentence_word]\n",
    "    return sentence_index\n",
    "\n",
    "# 使用句子测试\n",
    "def predict_sentiment(sentence, model, vocab_size=200, max_len=200, device='cpu'):\n",
    "    # 预处理句子\n",
    "    sentence = sentence.lower().split(\" \")\n",
    "    sentence = word2index(sentence)\n",
    "    sentence = torch.tensor(sentence).to(device)\n",
    "    # 使用\"[PAD]\"填充\n",
    "    if len(sentence) < max_len:\n",
    "        sentence = torch.cat([sentence, torch.zeros(max_len-len(sentence), dtype=torch.long, device=device)])\n",
    "    else:\n",
    "        sentence = sentence[:max_len]\n",
    "    sentence = pad_sequence([sentence], batch_first=True)\n",
    "    \n",
    "    # 预测\n",
    "    model.eval()\n",
    "    with torch.no_grad():\n",
    "        output = model(sentence)\n",
    "        prediction = torch.round(torch.sigmoid(output)).item()\n",
    "    return prediction\n",
    "\n",
    "print(\"Sample sentence: \")\n",
    "print(index2word(test_data[0].cpu().numpy()))"
   ],
   "metadata": {
    "collapsed": false,
    "ExecuteTime": {
     "end_time": "2024-10-29T10:13:33.505316500Z",
     "start_time": "2024-10-29T10:13:33.396613100Z"
    }
   }
  },
  {
   "cell_type": "code",
   "execution_count": 15,
   "outputs": [
    {
     "name": "stdout",
     "output_type": "stream",
     "text": [
      "Sentence: [START] this movie is great I love it It is the best movie ever [OOV], Prediction: Positive\n",
      "Sentence: [START] It is terrible [OOV], Prediction: Negative\n",
      "Sentence: [START] I love this movie [OOV], Prediction: Positive\n",
      "Sentence: [START] It is not good enough [OOV], Prediction: Negative\n",
      "Sentence: [START] the director is a big fool [OOV], Prediction: Negative\n"
     ]
    }
   ],
   "source": [
    "device = torch.device('cuda' if torch.cuda.is_available() else 'cpu')\n",
    "lstm_model = LSTMModel(vocab_size, embedding_dim, hidden_dim, output_dim, n_layers, dropout)\n",
    "lstm_model = lstm_model.to(device)\n",
    "lstm_model.load_state_dict(torch.load('data' + os.sep + 'lstm_model.pth', map_location=device))\n",
    "\n",
    "sentence = '[START] this movie is great I love it It is the best movie ever [OOV]'\n",
    "prediction = predict_sentiment(sentence, lstm_model, device=device)\n",
    "print(f'Sentence: {sentence}, Prediction: {\"Positive\" if prediction == 1 else \"Negative\"}')\n",
    "\n",
    "sentence = '[START] It is terrible [OOV]'\n",
    "prediction = predict_sentiment(sentence, lstm_model, device=device)\n",
    "print(f'Sentence: {sentence}, Prediction: {\"Positive\" if prediction == 1 else \"Negative\"}')\n",
    "\n",
    "sentence = '[START] I love this movie [OOV]'\n",
    "prediction = predict_sentiment(sentence, lstm_model, device=device)\n",
    "print(f'Sentence: {sentence}, Prediction: {\"Positive\" if prediction == 1 else \"Negative\"}')\n",
    "\n",
    "sentence = '[START] It is not good enough [OOV]'\n",
    "prediction = predict_sentiment(sentence, lstm_model, device=device)\n",
    "print(f'Sentence: {sentence}, Prediction: {\"Positive\" if prediction == 1 else \"Negative\"}')\n",
    "\n",
    "sentence = '[START] the director is a big fool [OOV]'\n",
    "prediction = predict_sentiment(sentence, lstm_model, device=device)\n",
    "print(f'Sentence: {sentence}, Prediction: {\"Positive\" if prediction == 1 else \"Negative\"}')"
   ],
   "metadata": {
    "collapsed": false,
    "ExecuteTime": {
     "end_time": "2024-10-29T12:18:06.582874100Z",
     "start_time": "2024-10-29T12:18:06.334474300Z"
    }
   }
  },
  {
   "cell_type": "code",
   "execution_count": 13,
   "outputs": [],
   "source": [],
   "metadata": {
    "collapsed": false,
    "ExecuteTime": {
     "end_time": "2024-10-29T10:13:33.672091Z",
     "start_time": "2024-10-29T10:13:33.669060200Z"
    }
   }
  }
 ],
 "metadata": {
  "kernelspec": {
   "display_name": "Python 3",
   "language": "python",
   "name": "python3"
  },
  "language_info": {
   "codemirror_mode": {
    "name": "ipython",
    "version": 2
   },
   "file_extension": ".py",
   "mimetype": "text/x-python",
   "name": "python",
   "nbconvert_exporter": "python",
   "pygments_lexer": "ipython2",
   "version": "2.7.6"
  }
 },
 "nbformat": 4,
 "nbformat_minor": 0
}
